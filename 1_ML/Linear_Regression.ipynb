{
 "cells": [
  {
   "cell_type": "markdown",
   "id": "a323737c",
   "metadata": {},
   "source": [
    "# Lineal Models"
   ]
  },
  {
   "cell_type": "markdown",
   "id": "5acc3476",
   "metadata": {},
   "source": [
    "https://colab.research.google.com/github/bmalcover/cursSocib/blob/main/1_ML/Linear_Regression.ipynb"
   ]
  },
  {
   "cell_type": "markdown",
   "id": "267c688b",
   "metadata": {},
   "source": [
    "## Lineal Regression"
   ]
  },
  {
   "cell_type": "markdown",
   "id": "f428a433",
   "metadata": {},
   "source": [
    "> In statistical modeling, regression analysis is a set of statistical processes for estimating the relationships between a dependent variable (often called the outcome or response variable, or a label in machine learning parlance) and one or more error-free independent variables (often called regressors, predictors, covariates, explanatory variables or features). The most common form of regression analysis is linear regression, in which one finds the line (or a more complex linear combination) that most closely fits the data according to a specific mathematical criterion.  [Link](https://en.wikipedia.org/wiki/Regression_analysis)\n"
   ]
  },
  {
   "cell_type": "markdown",
   "id": "f2f7fee8",
   "metadata": {},
   "source": [
    "The linear regression model is a simple yet powerful technique for regression problems, aiming to find the linear relationship between a dependent variable and one or more independent variables. This model assumes that there is a direct connection between the variables, expressed as a straight line in the case of one independent variable (simple linear regression), or as a hyperplane in higher-dimensional spaces (multiple linear regression)."
   ]
  },
  {
   "cell_type": "markdown",
   "id": "1efc3296",
   "metadata": {},
   "source": [
    "Its main function is to approximate the data using a linear function, minimizing the sum of squared errors between the model’s predictions and the actual observed values. This is done, as you’ve seen in theory, using the least squares method, which adjusts the coefficients of the line to best fit the data points.\n",
    "\n",
    "$$\\hat{y}=w_{0} + w_{1}x_1$$\n",
    "\n",
    "Where $w_{0}$ is the bias or intercept, and $w_1$ is the coefficient of the independent variable."
   ]
  },
  {
   "cell_type": "markdown",
   "id": "0dbd7818",
   "metadata": {},
   "source": [
    "## Exercise 1"
   ]
  },
  {
   "cell_type": "markdown",
   "id": "90bec338",
   "metadata": {},
   "source": [
    "Now, that we understand the linear regression concept, let's implement the manual computation of the model. \n",
    "\n",
    "![process](../assets/bloc1/linear_regression.png)"
   ]
  },
  {
   "cell_type": "markdown",
   "id": "8199bc7f",
   "metadata": {},
   "source": [
    "In this exercise, we need to compute:\n",
    "$$\n",
    "\\boldsymbol{\\beta} = (X^T X)^{-1} X^T y\n",
    "$$"
   ]
  },
  {
   "cell_type": "markdown",
   "id": "7bc55f9f",
   "metadata": {},
   "source": [
    "To do this using Python, we need to import the following libraries: "
   ]
  },
  {
   "cell_type": "code",
   "execution_count": 161,
   "id": "c5fc5e55",
   "metadata": {},
   "outputs": [],
   "source": [
    "import numpy as np\n",
    "import matplotlib.pyplot as plt"
   ]
  },
  {
   "cell_type": "markdown",
   "id": "df12e07a",
   "metadata": {},
   "source": [
    "- Numpy: To work with vectors and matrices. \n",
    "- Matplotlib: To visualize the data and the linear regression."
   ]
  },
  {
   "cell_type": "markdown",
   "id": "cc87b4fd",
   "metadata": {},
   "source": [
    "## 1. The data"
   ]
  },
  {
   "cell_type": "markdown",
   "id": "9c89f2a2",
   "metadata": {},
   "source": [
    "For this exercise, we are going to work with this small set of samples: \n",
    "|  Sample |  x  |  y  |\n",
    "|--------:|:---:|:---:|\n",
    "|    1    |  1  |  3  |\n",
    "|    2    |  2  |  5  |\n",
    "|    3    |  3  |  7  |\n",
    "|    4    |  4  |  9  |\n",
    "|    5    |  5  | 11  |\n",
    "\n",
    "As you can see, there is a clear relationship between the two variables:\n",
    "Whenever x increases by 1, y increases by 2. There is a lineal relation. "
   ]
  },
  {
   "cell_type": "markdown",
   "id": "258a5b1a",
   "metadata": {},
   "source": [
    "Here, we can see the arrays containing the data from the independent variable x and the dependent variable y:"
   ]
  },
  {
   "cell_type": "code",
   "execution_count": 162,
   "id": "403e7d2f",
   "metadata": {},
   "outputs": [],
   "source": [
    "X_data = np.array([[1], [2], [3], [4], [5]])\n",
    "y_data = np.array([3, 5, 7, 9, 11])"
   ]
  },
  {
   "cell_type": "markdown",
   "id": "4504999a",
   "metadata": {},
   "source": [
    "It is important to visualize the data and see how they are distributed: "
   ]
  },
  {
   "cell_type": "code",
   "execution_count": 163,
   "id": "1289019f",
   "metadata": {},
   "outputs": [
    {
     "data": {
      "image/png": "[encoded data removed]",
      "text/plain": [
       "<Figure size 640x480 with 1 Axes>"
      ]
     },
     "metadata": {},
     "output_type": "display_data"
    }
   ],
   "source": [
    "plt.scatter(X_data, y_data, color=\"blue\")\n",
    "plt.xlabel(\"Variable independent X\")\n",
    "plt.ylabel(\"Variable dependent Y\")\n",
    "plt.xlim(X_data.min() - 1, X_data.max() + 1)\n",
    "plt.ylim(y_data.min() - 1, y_data.max() + 1)\n",
    "plt.show()"
   ]
  },
  {
   "cell_type": "markdown",
   "id": "cd44fb5d",
   "metadata": {},
   "source": [
    "In this part you will compute manually $\\boldsymbol{\\beta} = (X^T X)^{-1} X^T y $.  The final objective is to obtain $w_{0}$ (intercept) and $w_1$ that define the regression line and plot it: \n",
    "$$\\hat{y}=w_{0} + w_{1}x_1$$\n",
    "\n"
   ]
  },
  {
   "cell_type": "markdown",
   "id": "71081ae2",
   "metadata": {},
   "source": [
    "`Hint: Don’t forget to include the bias (intercept term)!`\n",
    "\n",
    "- To compute the transpose of a matrix, use the `.T` attribute of the matrix. \n",
    "- To compute the inverse of a matrix, use the NumPy function `np.linalg.inv(...)`\n",
    "- To multiply matrices, use the `@` operator."
   ]
  },
  {
   "cell_type": "code",
   "execution_count": null,
   "id": "55627384",
   "metadata": {},
   "outputs": [],
   "source": [
    "X = ...\n",
    "y = ..."
   ]
  },
  {
   "cell_type": "code",
   "execution_count": null,
   "id": "42a8afd1",
   "metadata": {},
   "outputs": [],
   "source": [
    "# To Do: Compute the bias in this cell"
   ]
  },
  {
   "cell_type": "markdown",
   "id": "6b5f4b62",
   "metadata": {},
   "source": [
    "Now, compute the lineal regression: "
   ]
  },
  {
   "cell_type": "code",
   "execution_count": null,
   "id": "114f6ed2",
   "metadata": {},
   "outputs": [],
   "source": [
    "y_line = ..."
   ]
  },
  {
   "cell_type": "code",
   "execution_count": null,
   "id": "0a839eb4",
   "metadata": {},
   "outputs": [
    {
     "data": {
      "image/png": "[encoded data removed]",
      "text/plain": [
       "<Figure size 640x480 with 1 Axes>"
      ]
     },
     "metadata": {},
     "output_type": "display_data"
    }
   ],
   "source": [
    "plt.scatter(X_data, y_data, color=\"blue\")\n",
    "plt.xlabel(\"Variable X\")\n",
    "plt.ylabel(\"Variable Y\")\n",
    "plt.xlim(X_data.min() - 1, X_data.max() + 1)\n",
    "plt.ylim(y_data.min() - 1, y_data.max() + 1)\n",
    "plt.plot(X_data, y_line, color=\"red\", label=\"Línea de regresión\")\n",
    "plt.show()"
   ]
  },
  {
   "cell_type": "markdown",
   "id": "a4ca3488",
   "metadata": {},
   "source": [
    "## Exercise 2"
   ]
  },
  {
   "cell_type": "markdown",
   "id": "f7f8aa56",
   "metadata": {},
   "source": [
    "Not all datasets are as neat and perfect as the small example we saw before. In real life, data can be bigger, noisier, and less “clean”, so the points won’t fit perfectly on a line.\n",
    "\n",
    "In this exercise, we will use a larger dataset generated with some randomness (noise) to simulate real-world data.\n",
    "\n",
    "We will use `scikit-learn` library, to fit a linear regression model easily and efficiently. Initially, we import the library: "
   ]
  },
  {
   "cell_type": "code",
   "execution_count": 168,
   "id": "0d9ba54c",
   "metadata": {},
   "outputs": [],
   "source": [
    "from sklearn.linear_model import LinearRegression\n",
    "from sklearn.datasets import make_regression\n",
    "from sklearn.model_selection import train_test_split\n",
    "from sklearn.metrics import mean_absolute_error, mean_squared_error"
   ]
  },
  {
   "cell_type": "markdown",
   "id": "ab24c01f",
   "metadata": {},
   "source": [
    "Next, we create the dataset:"
   ]
  },
  {
   "cell_type": "code",
   "execution_count": 169,
   "id": "d691c35b",
   "metadata": {},
   "outputs": [],
   "source": [
    "X, y = make_regression(\n",
    "    n_samples=400, n_features=1, n_informative=1, noise=50.0, random_state=42\n",
    ")"
   ]
  },
  {
   "cell_type": "markdown",
   "id": "518257dc",
   "metadata": {},
   "source": [
    "As before, we visualize the data:"
   ]
  },
  {
   "cell_type": "code",
   "execution_count": 170,
   "id": "c2d4c5f2",
   "metadata": {},
   "outputs": [
    {
     "data": {
      "image/png": "[encoded data removed]",
      "text/plain": [
       "<Figure size 640x480 with 1 Axes>"
      ]
     },
     "metadata": {},
     "output_type": "display_data"
    }
   ],
   "source": [
    "plt.scatter(X, y, color=\"blue\")\n",
    "plt.xlabel(\"Variable X\")\n",
    "plt.ylabel(\"Variable Y\")\n",
    "plt.show()"
   ]
  },
  {
   "cell_type": "markdown",
   "id": "7827dbd8",
   "metadata": {},
   "source": [
    "In machine learning, we always follow these steps: \n",
    "1. Data processing. \n",
    "2. Training. \n",
    "3. Results analysis. "
   ]
  },
  {
   "cell_type": "markdown",
   "id": "8aff0e1e",
   "metadata": {},
   "source": [
    "Later in the course, we will cover how to preprocess and clean the data. For now, no preprocessing is needed.\n",
    "\n",
    "Before training the model, it’s important to split the dataset into two parts:\n",
    "\n",
    "- Training set: Used to train (fit) the linear regression model.\n",
    "- Test set: Used to evaluate and validate how well the model performs on unseen data.\n",
    "\n",
    "This division helps ensure that the model generalizes well and doesn’t just memorize the training data."
   ]
  },
  {
   "cell_type": "code",
   "execution_count": 171,
   "id": "920e9faf",
   "metadata": {},
   "outputs": [],
   "source": [
    "X_train, X_test, y_train, y_test = train_test_split(\n",
    "    X, y, test_size=0.33, random_state=42\n",
    ")"
   ]
  },
  {
   "cell_type": "markdown",
   "id": "1c84fc23",
   "metadata": {},
   "source": [
    "Let's create an object from `LinearRegression` class. The parameter `fit_interecpt = True` indicates that we want to compute automatically the intercept or bias: "
   ]
  },
  {
   "cell_type": "code",
   "execution_count": 172,
   "id": "2ace5e4c",
   "metadata": {},
   "outputs": [],
   "source": [
    "regr = LinearRegression(fit_intercept=True)"
   ]
  },
  {
   "cell_type": "markdown",
   "id": "db15a0c8",
   "metadata": {},
   "source": [
    "a) Fit the model: "
   ]
  },
  {
   "cell_type": "markdown",
   "id": "221d812e",
   "metadata": {},
   "source": [
    "`Hint`: [LinearRegression documentation](https://scikit-learn.org/stable/modules/generated/sklearn.linear_model.LinearRegression.html#sklearn.linear_model.LinearRegression)\n"
   ]
  },
  {
   "cell_type": "code",
   "execution_count": null,
   "id": "d0c34cf9",
   "metadata": {},
   "outputs": [],
   "source": []
  },
  {
   "cell_type": "markdown",
   "id": "1feda80b",
   "metadata": {},
   "source": [
    "b) Print $w_{0}$ and $w_1$:"
   ]
  },
  {
   "cell_type": "code",
   "execution_count": null,
   "id": "388256a4",
   "metadata": {},
   "outputs": [],
   "source": []
  },
  {
   "cell_type": "code",
   "execution_count": null,
   "id": "35e81376",
   "metadata": {},
   "outputs": [],
   "source": []
  },
  {
   "cell_type": "markdown",
   "id": "9536a18d",
   "metadata": {},
   "source": [
    "c) Use the method predict to obtain the results for the points and compare it with the manual computation using $w_{0}$ and $w_1$:"
   ]
  },
  {
   "cell_type": "code",
   "execution_count": null,
   "id": "b7f40fb0",
   "metadata": {},
   "outputs": [],
   "source": [
    "points = np.array([[1], [2]])"
   ]
  },
  {
   "cell_type": "code",
   "execution_count": null,
   "id": "8fd78834",
   "metadata": {},
   "outputs": [],
   "source": []
  },
  {
   "cell_type": "markdown",
   "id": "daf22cfb",
   "metadata": {},
   "source": [
    "d) Now, predict using the test set and visualize it: "
   ]
  },
  {
   "cell_type": "code",
   "execution_count": null,
   "id": "b20d8306",
   "metadata": {},
   "outputs": [],
   "source": [
    "y_pred = ..."
   ]
  },
  {
   "cell_type": "code",
   "execution_count": null,
   "id": "ee914886",
   "metadata": {},
   "outputs": [],
   "source": [
    "plt.scatter(X_test, y_test, c=\"black\", label=\"Dades\")\n",
    "plt.plot(X_test, y_pred, c=\"blue\", label=\"Regressió\")\n",
    "for x_t, y_t, y_p in zip(X_test, y_test, y_pred):\n",
    "    plt.plot([x_t, x_t], [y_t, y_p], c=\"red\", linestyle=\"--\") \n",
    "plt.legend();"
   ]
  },
  {
   "cell_type": "markdown",
   "id": "d3c64420",
   "metadata": {},
   "source": [
    "# Exercise 3"
   ]
  },
  {
   "cell_type": "markdown",
   "id": "514611ae",
   "metadata": {},
   "source": [
    "Regression problems also have metrics that indicate the quality of our predictions. We will use two different metrics: Mean Squared Error (MSE) and Mean Absolute Error (MAE).\n",
    "$MSE = \\frac{1}{n} \\sum_{i=1}^{n} (y_i - \\hat{y}_i)^2$\n",
    "\n",
    "$ MAE = \\frac{1}{n} \\sum_{i=1}^{n} \\left| y_i - \\hat{y}_i \\right|$\n",
    "\n",
    "\n"
   ]
  },
  {
   "cell_type": "code",
   "execution_count": null,
   "id": "b91c2f9b",
   "metadata": {},
   "outputs": [],
   "source": [
    "mean_absolute_error()"
   ]
  },
  {
   "cell_type": "code",
   "execution_count": null,
   "id": "21277e19",
   "metadata": {},
   "outputs": [],
   "source": [
    "mean_squared_error()"
   ]
  },
  {
   "cell_type": "code",
   "execution_count": null,
   "id": "a8207c8c",
   "metadata": {},
   "outputs": [],
   "source": [
    "import math\n",
    "math.sqrt(mean_squared_error())"
   ]
  }
 ],
 "metadata": {
  "kernelspec": {
   "display_name": "cv",
   "language": "python",
   "name": "python3"
  },
  "language_info": {
   "codemirror_mode": {
    "name": "ipython",
    "version": 3
   },
   "file_extension": ".py",
   "mimetype": "text/x-python",
   "name": "python",
   "nbconvert_exporter": "python",
   "pygments_lexer": "ipython3",
   "version": "3.9.19"
  }
 },
 "nbformat": 4,
 "nbformat_minor": 5
}
