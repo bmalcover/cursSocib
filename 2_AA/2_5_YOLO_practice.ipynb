{
 "cells": [
  {
   "cell_type": "markdown",
   "id": "670dbe7bb8bdee1d",
   "metadata": {},
   "source": [
    "## Unet Practice\n",
    "\n"
   ]
  },
  {
   "cell_type": "markdown",
   "id": "7624a505-b421-4e7f-8aec-800e40dab7e9",
   "metadata": {},
   "source": [
    "### Exercise 1: First Detection with YOLOv8\n",
    "\n",
    "**Objective**: Perform object detection on an image using a pretrained YOLOv8 model.\n",
    "\n",
    "**Instructions**:\n",
    "- Load the `yolov8n.pt` model from the `ultralytics` package.\n",
    "- Use a local image or an image URL as input.\n",
    "- Display the image with bounding boxes and class labels for each detection.\n",
    "\n",
    "**Requirements**:\n",
    "- Visualize detections over the image.\n",
    "\n",
    "**Bonus**:\n",
    "- Print the number of objects detected per class.\n"
   ]
  },
  {
   "cell_type": "code",
   "execution_count": null,
   "id": "d8a40d48-43dc-4a03-a907-368c3c68c990",
   "metadata": {},
   "outputs": [],
   "source": []
  },
  {
   "cell_type": "markdown",
   "id": "f6e11b7b-1799-40a9-8593-7892a46db2b2",
   "metadata": {},
   "source": [
    "### Exercise 2: Filter Detections by Class\n",
    "\n",
    "**Objective**: Show only the detections of a specific class (e.g., people or bicycles) in an image.\n",
    "\n",
    "**Instructions**:\n",
    "- Reuse the code from Exercise 1.\n",
    "- Filter the detection results to only include objects of class `\"person\"`.\n",
    "- Display the filtered results over the original image.\n",
    "\n",
    "**Bonus**:\n",
    "- Allow the user to change the filtered class using a variable (e.g., `filtered_class = \"dog\"`).\n"
   ]
  },
  {
   "cell_type": "code",
   "execution_count": null,
   "id": "da1cc1b9-b294-4a42-8ecf-20fe2e7baccf",
   "metadata": {},
   "outputs": [],
   "source": []
  },
  {
   "cell_type": "markdown",
   "id": "5ba2455b-4b27-4663-80d0-4a7ba0129abf",
   "metadata": {},
   "source": [
    "### Exercise 3: Export Detections to CSV\n",
    "\n",
    "**Objective**: Save object detection results to a `.csv` file.\n",
    "\n",
    "**Instructions**:\n",
    "- Use the `yolov8n.pt` model to detect objects in an image.\n",
    "- For each detection, store: class name, confidence score, and bounding box coordinates (`x1, y1, x2, y2`).\n",
    "- Write the results to a CSV file using `pandas` or `csv`.\n",
    "\n",
    "**Bonus**:\n",
    "- Include the image filename or an identifier in each CSV row."
   ]
  },
  {
   "cell_type": "code",
   "execution_count": null,
   "id": "7abde8b4-a216-4294-a983-02248a69fb1f",
   "metadata": {},
   "outputs": [],
   "source": []
  },
  {
   "cell_type": "markdown",
   "id": "6b86c11b-3370-4439-91ba-615bdde33355",
   "metadata": {},
   "source": [
    "### Exercise 4: Image Segmentation\n",
    "\n",
    "**Objective**: Apply object segmentation on an image using a pretrained segmentation model.\n",
    "\n",
    "**Instructions**:\n",
    "- Use the `yolov8n-seg.pt` model.\n",
    "- Predict segmentations for an input image.\n",
    "- Display the image with both bounding boxes and segmentation masks.\n",
    "\n",
    "**Bonus**:\n",
    "- Use transparent overlay colors for the masks.\n",
    "- Add a variable to toggle mask display on/off."
   ]
  },
  {
   "cell_type": "code",
   "execution_count": null,
   "id": "e6f6967f-01be-4139-9a50-5cd305863ee6",
   "metadata": {},
   "outputs": [],
   "source": []
  },
  {
   "cell_type": "markdown",
   "id": "1e26c1e0-8619-44ca-8ef1-70b2b545dfca",
   "metadata": {},
   "source": [
    "### Exercise 5: Detection vs. Segmentation Comparison\n",
    "\n",
    "**Objective**: Visually compare object detection and segmentation results on the same image.\n",
    "\n",
    "**Instructions**:\n",
    "- Use both `yolov8n.pt` (detection) and `yolov8n-seg.pt` (segmentation).\n",
    "- Run both predictions on the same image.\n",
    "- Show the two outputs side by side.\n",
    "\n",
    "**Reflection Questions**:\n",
    "- How does segmentation improve or worsen the results compared to detection?\n",
    "- In what scenarios would segmentation be more useful?"
   ]
  },
  {
   "cell_type": "code",
   "execution_count": null,
   "id": "1b3a1d88-c829-4dc8-9922-289c964759ac",
   "metadata": {},
   "outputs": [],
   "source": []
  }
 ],
 "metadata": {
  "kernelspec": {
   "display_name": "Python 3 (ipykernel)",
   "language": "python",
   "name": "python3"
  },
  "language_info": {
   "codemirror_mode": {
    "name": "ipython",
    "version": 3
   },
   "file_extension": ".py",
   "mimetype": "text/x-python",
   "name": "python",
   "nbconvert_exporter": "python",
   "pygments_lexer": "ipython3",
   "version": "3.8.19"
  }
 },
 "nbformat": 4,
 "nbformat_minor": 5
}
